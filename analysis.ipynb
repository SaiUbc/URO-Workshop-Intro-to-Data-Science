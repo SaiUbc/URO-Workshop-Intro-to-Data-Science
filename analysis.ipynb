{
 "cells": [
  {
   "cell_type": "markdown",
   "id": "d036b560-2d3d-4a51-adeb-ebdc31f7f675",
   "metadata": {},
   "source": [
    "# Imports"
   ]
  },
  {
   "cell_type": "code",
   "execution_count": null,
   "id": "10222fd6-dda7-44f8-80ce-62898513cae5",
   "metadata": {},
   "outputs": [],
   "source": [
    "import pandas as pd\n",
    "import matplotlib.pyplot as plt\n",
    "import seaborn as sns"
   ]
  },
  {
   "cell_type": "markdown",
   "id": "d46fa0b9-96bb-41aa-b49f-27cb8aa4f266",
   "metadata": {},
   "source": [
    "# 1. Data Loading"
   ]
  },
  {
   "cell_type": "code",
   "execution_count": null,
   "id": "df4d8106-edfc-49c3-85e8-26765e334ee8",
   "metadata": {},
   "outputs": [],
   "source": [
    "data = pd.read_csv(\"data/rainfall.csv\")"
   ]
  },
  {
   "cell_type": "code",
   "execution_count": null,
   "id": "83b7f706-cd9e-48a7-9a8c-0d47b66d5201",
   "metadata": {},
   "outputs": [],
   "source": [
    "data.head()"
   ]
  },
  {
   "cell_type": "code",
   "execution_count": null,
   "id": "5261a947-034d-41d4-9814-1b676b93c3b0",
   "metadata": {},
   "outputs": [],
   "source": [
    "data.tail()"
   ]
  },
  {
   "cell_type": "code",
   "execution_count": null,
   "id": "a42fb0ff-a059-4cc7-8318-cdf5a87ffeb2",
   "metadata": {},
   "outputs": [],
   "source": [
    "data.shape"
   ]
  },
  {
   "cell_type": "code",
   "execution_count": null,
   "id": "b94722e4-b7b0-4622-ad70-f5ffcac55c46",
   "metadata": {},
   "outputs": [],
   "source": [
    "data.describe(include='all')"
   ]
  },
  {
   "cell_type": "code",
   "execution_count": null,
   "id": "3a74feae-9166-48e5-9a3e-82a134afa04a",
   "metadata": {},
   "outputs": [],
   "source": [
    "data.isnull().sum()"
   ]
  },
  {
   "cell_type": "code",
   "execution_count": null,
   "id": "207559ea-cfad-473b-9249-c89cf5caf40d",
   "metadata": {},
   "outputs": [],
   "source": [
    "data.dtypes"
   ]
  },
  {
   "cell_type": "code",
   "execution_count": null,
   "id": "1cb84686-9044-4203-bf94-8c823a2b767e",
   "metadata": {},
   "outputs": [],
   "source": [
    "data.duplicated().sum()"
   ]
  },
  {
   "cell_type": "code",
   "execution_count": null,
   "id": "4feebfab-4e02-4bbb-b290-7717c225454e",
   "metadata": {},
   "outputs": [],
   "source": [
    "data = data.dropna()"
   ]
  },
  {
   "cell_type": "code",
   "execution_count": null,
   "id": "f2d7cad3-8aaa-46a0-bfee-deff46d730ee",
   "metadata": {},
   "outputs": [],
   "source": [
    "data.tail()"
   ]
  },
  {
   "cell_type": "markdown",
   "id": "2869d3f2-c350-4ac8-a2cb-b69b0ff2f4f7",
   "metadata": {},
   "source": [
    "# 2. Data Visualizations"
   ]
  },
  {
   "cell_type": "code",
   "execution_count": null,
   "id": "2ae161b3-ec55-400e-adb7-89ea77599308",
   "metadata": {},
   "outputs": [],
   "source": [
    "if 'date' in data.columns:\n",
    "    data['date'] = pd.to_datetime(data['date'])"
   ]
  },
  {
   "cell_type": "code",
   "execution_count": null,
   "id": "f482928c-5325-4399-a7f1-5d900be14b18",
   "metadata": {},
   "outputs": [],
   "source": [
    "# Visualization 1: Time Series of Rainfall\n",
    "plt.figure(figsize=(10, 6))\n",
    "plt.plot(data['date'], data['rainfall'], marker='o', label='Rainfall')\n",
    "plt.title('Rainfall Over Time')\n",
    "plt.xlabel('Date')\n",
    "plt.ylabel('Rainfall (mm)')\n",
    "plt.grid()\n",
    "plt.legend()\n",
    "plt.show()"
   ]
  },
  {
   "cell_type": "code",
   "execution_count": null,
   "id": "9ceaa56a-35eb-47b4-8467-ac5e58a5f6a9",
   "metadata": {},
   "outputs": [],
   "source": [
    "# Visualization 2: Temperature vs Humidity (Scatter Plot)\n",
    "plt.figure(figsize=(8, 6))\n",
    "sns.scatterplot(x='temperature', y='humidity', hue='weather_condition', data=data, palette='coolwarm', s=100)\n",
    "plt.title('Temperature vs Humidity')\n",
    "plt.xlabel('Temperature (°C)')\n",
    "plt.ylabel('Humidity (%)')\n",
    "plt.legend(title='Weather Condition')\n",
    "plt.show()"
   ]
  },
  {
   "cell_type": "code",
   "execution_count": null,
   "id": "039c7e0b-3411-4e99-9eb5-c0ffa3499f0d",
   "metadata": {},
   "outputs": [],
   "source": [
    "# Visualization 3: Rainfall Distribution by Weather Condition (Box Plot)\n",
    "plt.figure(figsize=(8, 6))\n",
    "sns.boxplot(x='weather_condition', y='rainfall', data=data, palette='viridis')\n",
    "plt.title('Rainfall Distribution by Weather Condition')\n",
    "plt.xlabel('Weather Condition')\n",
    "plt.ylabel('Rainfall (mm)')\n",
    "plt.show()"
   ]
  },
  {
   "cell_type": "code",
   "execution_count": null,
   "id": "f017e08e-3d92-4076-aba3-5b8bf141721a",
   "metadata": {},
   "outputs": [],
   "source": [
    "# Visualization 4: Wind Speed Distribution (Histogram)\n",
    "plt.figure(figsize=(8, 6))\n",
    "plt.hist(data['wind_speed'], bins=5, color='skyblue', edgecolor='black')\n",
    "plt.title('Wind Speed Distribution')\n",
    "plt.xlabel('Wind Speed (m/s)')\n",
    "plt.ylabel('Frequency')\n",
    "plt.grid()\n",
    "plt.show()"
   ]
  },
  {
   "cell_type": "code",
   "execution_count": null,
   "id": "8f94fe85-51be-478b-aeb3-ba24f171a2c7",
   "metadata": {},
   "outputs": [],
   "source": [
    "# Pairplot to visualize relationships between all numerical features\n",
    "sns.pairplot(data, hue='weather_condition', diag_kind='kde', palette='coolwarm')\n",
    "plt.suptitle('Pairplot of All Features', y=1.02)\n",
    "plt.show()"
   ]
  },
  {
   "cell_type": "markdown",
   "id": "da0bf187-f6e4-4ed6-a885-587e2c5a7ba7",
   "metadata": {},
   "source": [
    "# 3. Data Analysis"
   ]
  },
  {
   "cell_type": "code",
   "execution_count": null,
   "id": "f6b7ed77-6920-4626-943a-27b6f9bf94ab",
   "metadata": {},
   "outputs": [],
   "source": [
    "from sklearn.model_selection import train_test_split\n",
    "from sklearn.tree import DecisionTreeClassifier\n",
    "from sklearn.metrics import classification_report, confusion_matrix\n",
    "from sklearn import tree"
   ]
  },
  {
   "cell_type": "code",
   "execution_count": null,
   "id": "e3a8f823-025a-4663-a9ab-54575f0d13b7",
   "metadata": {},
   "outputs": [],
   "source": [
    "data['weather_condition'] = data['weather_condition'].map({'Sunny': 0, 'Rainy': 1})"
   ]
  },
  {
   "cell_type": "code",
   "execution_count": null,
   "id": "1eed9451-622b-4583-bf0d-d2207fa3c3da",
   "metadata": {},
   "outputs": [],
   "source": [
    "data.head()"
   ]
  },
  {
   "cell_type": "markdown",
   "id": "0ee30735-bfdd-4bdb-ae19-823ed89657ef",
   "metadata": {},
   "source": [
    "## Tree Based Models"
   ]
  },
  {
   "cell_type": "code",
   "execution_count": null,
   "id": "e53558e9-a2d2-49a0-9da1-a87788c7adca",
   "metadata": {},
   "outputs": [],
   "source": [
    "X = data[['rainfall', 'temperature', 'humidity', 'wind_speed']]\n",
    "y = data['weather_condition']"
   ]
  },
  {
   "cell_type": "code",
   "execution_count": null,
   "id": "78c7537c-4296-47bb-8dd5-5494127ba5a5",
   "metadata": {},
   "outputs": [],
   "source": [
    "X.head()"
   ]
  },
  {
   "cell_type": "code",
   "execution_count": null,
   "id": "e812767e-df04-44e7-b511-64472f3ec8a3",
   "metadata": {},
   "outputs": [],
   "source": [
    "X_train, X_test, y_train, y_test = train_test_split(X, y, test_size=0.2, random_state=42)"
   ]
  },
  {
   "cell_type": "code",
   "execution_count": null,
   "id": "b367c4e8-89b5-47e6-890e-f24f6d688d07",
   "metadata": {},
   "outputs": [],
   "source": [
    "model = DecisionTreeClassifier(random_state=42)\n",
    "model.fit(X_train, y_train)"
   ]
  },
  {
   "cell_type": "code",
   "execution_count": null,
   "id": "cbb13a2e-d666-4daf-bb79-52b4a0f491a2",
   "metadata": {},
   "outputs": [],
   "source": [
    "y_pred = model.predict(X_test)"
   ]
  },
  {
   "cell_type": "code",
   "execution_count": null,
   "id": "363ef24b-2b15-446c-90dd-b83ad5aae826",
   "metadata": {},
   "outputs": [],
   "source": [
    "y_pred"
   ]
  },
  {
   "cell_type": "code",
   "execution_count": null,
   "id": "78fffd71-1e3b-45c2-8cfb-2c8a6a350cdf",
   "metadata": {},
   "outputs": [],
   "source": [
    "print(\"Classification Report:\")\n",
    "print(classification_report(y_test, y_pred))"
   ]
  },
  {
   "cell_type": "code",
   "execution_count": null,
   "id": "bbd31ba6-0696-4401-b5d3-b353e2fd608c",
   "metadata": {},
   "outputs": [],
   "source": [
    "plt.figure(figsize=(50, 50))\n",
    "tree.plot_tree(model, feature_names=X.columns, class_names=['Sunny', 'Rainy'], filled=True)\n",
    "plt.title(\"Decision Tree\")\n",
    "plt.show()"
   ]
  },
  {
   "cell_type": "markdown",
   "id": "338c5f17-d490-44f0-a488-92cc89e1ad21",
   "metadata": {},
   "source": [
    "## Linear Models"
   ]
  },
  {
   "cell_type": "code",
   "execution_count": null,
   "id": "2d400b30-56bf-49fb-b5a2-aa185e728836",
   "metadata": {},
   "outputs": [],
   "source": [
    "from sklearn.linear_model import LinearRegression\n",
    "from sklearn.metrics import mean_squared_error, r2_score"
   ]
  },
  {
   "cell_type": "code",
   "execution_count": null,
   "id": "13175e86-bc7e-4e63-a46b-0c7bdd80f2c1",
   "metadata": {},
   "outputs": [],
   "source": [
    "X = data[['rainfall', 'temperature', 'humidity']]\n",
    "y = data['wind_speed']"
   ]
  },
  {
   "cell_type": "code",
   "execution_count": null,
   "id": "bef82104-f63e-486e-8330-b517896dcad6",
   "metadata": {},
   "outputs": [],
   "source": [
    "X.head()"
   ]
  },
  {
   "cell_type": "code",
   "execution_count": null,
   "id": "91351e43-7a4e-4dcd-9327-70cf9a1c0852",
   "metadata": {},
   "outputs": [],
   "source": [
    "y.head()"
   ]
  },
  {
   "cell_type": "code",
   "execution_count": null,
   "id": "509fd1ba-ecac-404c-a05b-3bfcf1c0e01e",
   "metadata": {},
   "outputs": [],
   "source": [
    "X_train, X_test, y_train, y_test = train_test_split(X, y, test_size=0.2, random_state=42)"
   ]
  },
  {
   "cell_type": "code",
   "execution_count": null,
   "id": "9d2a3612-5976-4abe-8c2e-ed919fedb32e",
   "metadata": {},
   "outputs": [],
   "source": [
    "model = LinearRegression()\n",
    "model.fit(X_train, y_train)"
   ]
  },
  {
   "cell_type": "code",
   "execution_count": null,
   "id": "6a5efc57-1a16-4328-b325-533d5428c913",
   "metadata": {},
   "outputs": [],
   "source": [
    "y_pred = model.predict(X_test)"
   ]
  },
  {
   "cell_type": "code",
   "execution_count": null,
   "id": "a9d392f8-2f73-474b-acb1-36596b0312e2",
   "metadata": {},
   "outputs": [],
   "source": [
    "y_pred"
   ]
  },
  {
   "cell_type": "code",
   "execution_count": null,
   "id": "2f76b9b1-3002-4258-8d64-b713f1f77199",
   "metadata": {},
   "outputs": [],
   "source": [
    "mse = mean_squared_error(y_test, y_pred)\n",
    "r2 = r2_score(y_test, y_pred)\n",
    "\n",
    "print(\"Mean Squared Error:\", mse)\n",
    "print(\"R-squared:\", r2)"
   ]
  },
  {
   "cell_type": "code",
   "execution_count": null,
   "id": "32084faf-9a59-4253-9a76-ef0673b82db7",
   "metadata": {},
   "outputs": [],
   "source": [
    "print(\"Coefficients:\", model.coef_)\n",
    "print(\"Intercept:\", model.intercept_)"
   ]
  },
  {
   "cell_type": "code",
   "execution_count": null,
   "id": "f39f0443-7da3-46ad-8528-6d0ec07ff6f8",
   "metadata": {},
   "outputs": [],
   "source": [
    "plt.figure(figsize=(8, 6))\n",
    "plt.scatter(y_test, y_pred, alpha=0.7, color='b')\n",
    "plt.plot([y_test.min(), y_test.max()], [y_test.min(), y_test.max()], '--r', linewidth=2)\n",
    "plt.title('Actual vs Predicted Wind Speed')\n",
    "plt.xlabel('Actual Wind Speed')\n",
    "plt.ylabel('Predicted Wind Speed')\n",
    "plt.grid()\n",
    "plt.show()"
   ]
  }
 ],
 "metadata": {
  "kernelspec": {
   "display_name": "Python 3 (ipykernel)",
   "language": "python",
   "name": "python3"
  },
  "language_info": {
   "codemirror_mode": {
    "name": "ipython",
    "version": 3
   },
   "file_extension": ".py",
   "mimetype": "text/x-python",
   "name": "python",
   "nbconvert_exporter": "python",
   "pygments_lexer": "ipython3",
   "version": "3.12.8"
  }
 },
 "nbformat": 4,
 "nbformat_minor": 5
}
